{
 "cells": [
  {
   "cell_type": "code",
   "execution_count": 49,
   "metadata": {},
   "outputs": [
    {
     "name": "stdout",
     "output_type": "stream",
     "text": [
      "[[0 0 1]\n",
      " [0 0 1]]\n"
     ]
    }
   ],
   "source": [
    "import numpy as np\n",
    "\n",
    "m1 = [[1,1,1],[1,0,0]]\n",
    "m2 = [[1,1,0],[1,0,1]]\n",
    "m = np.bitwise_xor(m1,m2)\n",
    "print(m)"
   ]
  },
  {
   "cell_type": "code",
   "execution_count": 58,
   "metadata": {},
   "outputs": [
    {
     "name": "stdout",
     "output_type": "stream",
     "text": [
      "0 2\n",
      "1 2\n",
      "email enviado para coordenada: 1 2\n"
     ]
    }
   ],
   "source": [
    "x = 0\n",
    "y = 0\n",
    "for row in m:\n",
    "    for col in row:\n",
    "        if col == 1:\n",
    "            print(x,y)\n",
    "            if (m1[x][y]) == 0 & (m2 [x][y] == 1):\n",
    "                print (\"email enviado para coordenada:\", x,y)\n",
    "        y += 1    \n",
    "    x += 1\n",
    "    y = 0        "
   ]
  },
  {
   "cell_type": "code",
   "execution_count": null,
   "metadata": {},
   "outputs": [],
   "source": []
  }
 ],
 "metadata": {
  "kernelspec": {
   "display_name": "Python 3",
   "language": "python",
   "name": "python3"
  },
  "language_info": {
   "codemirror_mode": {
    "name": "ipython",
    "version": 3
   },
   "file_extension": ".py",
   "mimetype": "text/x-python",
   "name": "python",
   "nbconvert_exporter": "python",
   "pygments_lexer": "ipython3",
   "version": "3.7.4"
  }
 },
 "nbformat": 4,
 "nbformat_minor": 2
}
