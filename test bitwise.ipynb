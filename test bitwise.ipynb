{
 "cells": [
  {
   "cell_type": "code",
   "execution_count": 18,
   "metadata": {},
   "outputs": [
    {
     "name": "stdout",
     "output_type": "stream",
     "text": [
      "[[0 0 1]\n",
      " [0 1 1]]\n"
     ]
    }
   ],
   "source": [
    "import numpy as np\n",
    "\n",
    "m1 = [[1,1,1],[1,0,0]]\n",
    "m2 = [[1,1,0],[1,1,1]]\n",
    "m = np.bitwise_xor(m1,m2)\n",
    "print(m)"
   ]
  },
  {
   "cell_type": "code",
   "execution_count": 19,
   "metadata": {},
   "outputs": [
    {
     "name": "stdout",
     "output_type": "stream",
     "text": [
      "0 2\n",
      "1 1\n",
      "email enviado para coordenada: 1 1\n",
      "1 2\n",
      "email enviado para coordenada: 1 2\n"
     ]
    }
   ],
   "source": [
    "x = 0\n",
    "y = 0\n",
    "for row in m:\n",
    "    for col in row:\n",
    "        if col == 1:\n",
    "            print(x,y)\n",
    "            if (m1[x][y]) == 0 & (m2 [x][y] == 1):\n",
    "                print (\"email enviado para coordenada:\", x,y)\n",
    "        y += 1    \n",
    "    x += 1\n",
    "    y = 0        "
   ]
  },
  {
   "cell_type": "code",
   "execution_count": 39,
   "metadata": {},
   "outputs": [
    {
     "name": "stdout",
     "output_type": "stream",
     "text": [
      "[['belfort@ufpe.br', 'cecilio@ufpe.br', 'dpb.chaves@gmail.com', 'daniel.fgomes@ufpe.br'], ['fontana@ufpe.br', 'edval@ee.ufpe.br', 'fernandaalenc@gmail.com', 'fernandocampello7@gmail.com'], ['gilsonjr@gmail.com', 'guinm03@gmail.com', 'hermano.cabral@ufpe.br', 'jbrito@ufpe.br'], ['jmxntg@gmail.com', 'jfmf@ufpe.br', 'jose.lemosnt@ufpe.br', 'juliano_bandeira@hotmail.com'], ['lauronovo@gmail.com', 'leonardo.coelho@ufpe.br', 'benedetti@ufpe.br', 'mmar@ufpe.br'], ['marcostdemelo@gmail.com', 'mauro@ufpe.br', 'patlessa@hotmail.com', 'ralmeida.ufpe@gmail.com'], ['renato.earaujo@ufpe.br', 'ricardo@ufpe.br', 'sidocalima@gmail.com', 'tomcbarros@gmail.com'], ['rocha.valdemar@gmail.com', '0', '0', '0']]\n"
     ]
    }
   ],
   "source": [
    "f = open('matriz_de_emails.txt')\n",
    "emails=f.read().split()\n",
    "for i in range(0,len(emails)):\n",
    "    emails[i]=emails[i].split(',')\n",
    "print(emails)"
   ]
  },
  {
   "cell_type": "code",
   "execution_count": null,
   "metadata": {},
   "outputs": [],
   "source": [
    "import numpy as np\n",
    "import emailto\n",
    "\n",
    "def risingegde(M):\n",
    "    x = 0\n",
    "    y = 0\n",
    "    for row in M:\n",
    "        for col in row:\n",
    "            if col == 1:\n",
    "                if (m1[x][y]) == 0 & (m2 [x][y] == 1):\n",
    "                    emailto.emailto(x,y)\n",
    "            y += 1    \n",
    "        x += 1\n",
    "        y = 0       "
   ]
  }
 ],
 "metadata": {
  "kernelspec": {
   "display_name": "Python 3",
   "language": "python",
   "name": "python3"
  },
  "language_info": {
   "codemirror_mode": {
    "name": "ipython",
    "version": 3
   },
   "file_extension": ".py",
   "mimetype": "text/x-python",
   "name": "python",
   "nbconvert_exporter": "python",
   "pygments_lexer": "ipython3",
   "version": "3.7.4"
  }
 },
 "nbformat": 4,
 "nbformat_minor": 4
}
