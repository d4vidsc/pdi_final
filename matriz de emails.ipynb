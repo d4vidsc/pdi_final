{
 "cells": [
  {
   "cell_type": "code",
   "execution_count": 1,
   "metadata": {},
   "outputs": [],
   "source": [
    "emails = [[\"belfort@ufpe.br\",\"cecilio@ufpe.br\",\"dpb.chaves@gmail.com\",\"daniel.fgomes@ufpe.br\"],\n",
    "         [\"fontana@ufpe.br\",\"edval@ee.ufpe.br\",\"fernandaalenc@gmail.com\",\"fernandocampello7@gmail.com\"],\n",
    "         [\"gilsonjr@gmail.com\",\"guinm03@gmail.com\",\"hermano.cabral@ufpe.br \",\"jbrito@ufpe.br\"],\n",
    "         [\"jmxntg@gmail.com\",\"jfmf@ufpe.br\",\"jose.lemosnt@ufpe.br\",\"juliano_bandeira@hotmail.com\"],\n",
    "         [\"lauronovo@gmail.com\",\"leonardo.coelho@ufpe.br\",\"benedetti@ufpe.br\",\"mmar@ufpe.br\"],\n",
    "         [\"marcostdemelo@gmail.com\",\"mauro@ufpe.br\",\"patlessa@hotmail.com\",\"ralmeida.ufpe@gmail.com\"],\n",
    "         [\"renato.earaujo@ufpe.br\",\"ricardo@ufpe.br\",\"sidocalima@gmail.com\",\"tomcbarros@gmail.com\"],\n",
    "         [\"rocha.valdemar@gmail.com\",0,0,0]]"
   ]
  },
  {
   "cell_type": "code",
   "execution_count": 9,
   "metadata": {},
   "outputs": [],
   "source": [
    "#A proposta do projeto é que essa matriz de e-mails esteja salva em um arquivo e seja correspondente\n",
    "#aos nomes dos professores no escaninho\n",
    "#De acordo com a matriz retornada pela identificação da posição, então será enviado um e-mail de \n",
    "#acordo com a coordenada retornada\n",
    "\n",
    "#1 - O arquivo emailto deverá ser uma biblioteca\n",
    "#2 - O arquivo matriz de emails deverá ser um arquivo txt\n",
    "#3 - A verificação da posição deverá ser uma função que retornará para qual professor deverá ser\n",
    "#enviado o e-mail"
   ]
  },
  {
   "cell_type": "code",
   "execution_count": null,
   "metadata": {},
   "outputs": [],
   "source": []
  }
 ],
 "metadata": {
  "kernelspec": {
   "display_name": "Python 3",
   "language": "python",
   "name": "python3"
  },
  "language_info": {
   "codemirror_mode": {
    "name": "ipython",
    "version": 3
   },
   "file_extension": ".py",
   "mimetype": "text/x-python",
   "name": "python",
   "nbconvert_exporter": "python",
   "pygments_lexer": "ipython3",
   "version": "3.7.4"
  }
 },
 "nbformat": 4,
 "nbformat_minor": 2
}
